{
 "cells": [
  {
   "cell_type": "code",
   "execution_count": 122,
   "metadata": {
    "collapsed": true
   },
   "outputs": [],
   "source": [
    "import nltk\n",
    "from nltk.collocations import *\n",
    "from nltk.metrics.spearman import *\n",
    "import csv\n",
    "bigram_measures = nltk.collocations.BigramAssocMeasures()\n",
    "trigram_measures = nltk.collocations.TrigramAssocMeasures()"
   ]
  },
  {
   "cell_type": "code",
   "execution_count": 131,
   "metadata": {
    "collapsed": false
   },
   "outputs": [],
   "source": [
    "my_bigrams = [\n",
    "    ('принять', 'решение'),\n",
    "    ('вынести', 'приговор'), \n",
    "    ('удовлетворить', 'иск'),\n",
    "    ('возбудить', 'дело'), \n",
    "    ('проведение', 'следствие'),\n",
    "    ('наложить', 'арест'),\n",
    "    ('провести', 'разбирательство'), \n",
    "    ('выдать', 'санкция'),\n",
    "    ('продлить', 'срок'),\n",
    "    ('удовлетворить', 'ходатайство')\n",
    "]"
   ]
  },
  {
   "cell_type": "code",
   "execution_count": 132,
   "metadata": {
    "collapsed": false
   },
   "outputs": [],
   "source": [
    "with open('C:/Users/S451/Desktop/nlp/court-V-N.csv', 'r', encoding='utf-8') as f:\n",
    "    csv_data = csv.reader(f, delimiter=',')\n",
    "    data = []\n",
    "    for line in csv_data:\n",
    "        for word in line[1:3]:\n",
    "            data.append(word.lower().replace(' ', ''))\n",
    "        data.append('/')"
   ]
  },
  {
   "cell_type": "code",
   "execution_count": 141,
   "metadata": {
    "collapsed": false
   },
   "outputs": [],
   "source": [
    "finder = BigramCollocationFinder.from_words(data)\n",
    "\n",
    "metrics1 = finder.score_ngrams(bigram_measures.raw_freq)\n",
    "bigrams1 = [i for i in metrics1 if '/' not in i[0]][:10]\n",
    "fin1 = sorted(bigrams1, key=lambda x: x[1], reverse=True)\n",
    "\n",
    "metrics2 = finder.score_ngrams(bigram_measures.likelihood_ratio)\n",
    "bigrams2 = [i for i in metrics2 if '/' not in i[0]][:10]\n",
    "fin2 = sorted(bigrams2, key=lambda x: x[1], reverse=True)[:10]"
   ]
  },
  {
   "cell_type": "code",
   "execution_count": 142,
   "metadata": {
    "collapsed": false
   },
   "outputs": [
    {
     "data": {
      "text/plain": [
       "[('удовлетворить', 'иск'),\n",
       " ('принять', 'решение'),\n",
       " ('удовлетворить', 'ходатайство'),\n",
       " ('выдать', 'санкция'),\n",
       " ('вынести', 'решение'),\n",
       " ('признать', 'виновная'),\n",
       " ('наложить', 'арест'),\n",
       " ('санкционировать', 'арест'),\n",
       " ('отказать', 'удовлетворение'),\n",
       " ('признать', 'правота')]"
      ]
     },
     "execution_count": 142,
     "metadata": {},
     "output_type": "execute_result"
    }
   ],
   "source": [
    "fin1 = [i[0] for i in fin1]\n",
    "fin1"
   ]
  },
  {
   "cell_type": "code",
   "execution_count": 143,
   "metadata": {
    "collapsed": false
   },
   "outputs": [
    {
     "data": {
      "text/plain": [
       "[('выдать', 'санкция'),\n",
       " ('удовлетворить', 'иск'),\n",
       " ('принять', 'решение'),\n",
       " ('удовлетворить', 'ходатайство'),\n",
       " ('наложить', 'арест'),\n",
       " ('признать', 'виновная'),\n",
       " ('санкционировать', 'арест'),\n",
       " ('отказать', 'удовлетворение'),\n",
       " ('освободить', 'залог'),\n",
       " ('пройти', 'прение')]"
      ]
     },
     "execution_count": 143,
     "metadata": {},
     "output_type": "execute_result"
    }
   ],
   "source": [
    "fin2 = [i[0] for i in fin2]\n",
    "fin2"
   ]
  },
  {
   "cell_type": "code",
   "execution_count": 144,
   "metadata": {
    "collapsed": false
   },
   "outputs": [
    {
     "name": "stdout",
     "output_type": "stream",
     "text": [
      "-2.5\n"
     ]
    }
   ],
   "source": [
    "print ('%0.1f' % spearman_correlation(ranks_from_sequence(fin1), ranks_from_sequence(my_bigrams)))"
   ]
  },
  {
   "cell_type": "code",
   "execution_count": 145,
   "metadata": {
    "collapsed": false
   },
   "outputs": [
    {
     "name": "stdout",
     "output_type": "stream",
     "text": [
      "-3.5\n"
     ]
    }
   ],
   "source": [
    "print ('%0.1f' % spearman_correlation(ranks_from_sequence(fin2), ranks_from_sequence(my_bigrams)))"
   ]
  },
  {
   "cell_type": "code",
   "execution_count": 146,
   "metadata": {
    "collapsed": false
   },
   "outputs": [
    {
     "name": "stdout",
     "output_type": "stream",
     "text": [
      "0.8\n"
     ]
    }
   ],
   "source": [
    "print ('%0.1f' % spearman_correlation(ranks_from_sequence(fin1), ranks_from_sequence(fin2)))"
   ]
  },
  {
   "cell_type": "markdown",
   "metadata": {},
   "source": [
    "Я использовала смотрела самые частотные коллокации и коллокации, найденные по likelyhood\n",
    "Оба отрицательно коррелируют с моим золотым стандартом, и неплохо коррелируют между собой"
   ]
  }
 ],
 "metadata": {
  "kernelspec": {
   "display_name": "Python 3",
   "language": "python",
   "name": "python3"
  },
  "language_info": {
   "codemirror_mode": {
    "name": "ipython",
    "version": 3
   },
   "file_extension": ".py",
   "mimetype": "text/x-python",
   "name": "python",
   "nbconvert_exporter": "python",
   "pygments_lexer": "ipython3",
   "version": "3.6.0"
  }
 },
 "nbformat": 4,
 "nbformat_minor": 2
}
